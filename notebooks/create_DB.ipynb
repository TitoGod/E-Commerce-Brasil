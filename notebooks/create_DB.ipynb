{
 "cells": [
  {
   "cell_type": "markdown",
   "metadata": {},
   "source": [
    "## Creación de la base de datos en SQL Server"
   ]
  },
  {
   "cell_type": "markdown",
   "metadata": {},
   "source": [
    "### Importar la librería, asignar las variables y crear la conexión"
   ]
  },
  {
   "cell_type": "code",
   "execution_count": 19,
   "metadata": {},
   "outputs": [],
   "source": [
    "import pyodbc\n",
    "\n",
    "server = 'localhost\\\\SQLEXPRESS'\n",
    "database = 'master'\n",
    "\n",
    "# Create a connection string\n",
    "conn_str = (\n",
    "    'DRIVER={ODBC Driver 17 for SQL Server};'\n",
    "    'SERVER=' + server + ';'  # replace with your server name\n",
    "    'DATABASE=' + database + ';'  # the database you want to connect to\n",
    "    'Trusted_Connection=yes;'\n",
    ")"
   ]
  },
  {
   "cell_type": "markdown",
   "metadata": {},
   "source": [
    "### Crear la base de datos"
   ]
  },
  {
   "cell_type": "code",
   "execution_count": 20,
   "metadata": {},
   "outputs": [],
   "source": [
    "# Create a connection\n",
    "conn = pyodbc.connect(conn_str, autocommit=True) # El autocommint en True permite crear la base desde el código\n",
    "\n",
    "# Create a cursor\n",
    "cursor = conn.cursor()\n",
    "\n",
    "# Execute the CREATE DATABASE statement\n",
    "cursor.execute('CREATE DATABASE Ecommerce_Brasil')  # replace with your database name \n",
    "\n",
    "# Close the cursor and the connection\n",
    "cursor.close()\n",
    "conn.close()"
   ]
  },
  {
   "cell_type": "markdown",
   "metadata": {},
   "source": [
    "### Creación de las tablas"
   ]
  },
  {
   "cell_type": "code",
   "execution_count": 21,
   "metadata": {},
   "outputs": [
    {
     "data": {
      "text/plain": [
       "<pyodbc.Cursor at 0x203ec59ae30>"
      ]
     },
     "execution_count": 21,
     "metadata": {},
     "output_type": "execute_result"
    }
   ],
   "source": [
    "database = 'Ecommerce_Brasil' # Cambiar a la base de datos que ocupemos\n",
    "\n",
    "# Create a connection string\n",
    "conn_str = (\n",
    "    'DRIVER={ODBC Driver 17 for SQL Server};'\n",
    "    'SERVER=' + server + ';'  # replace with your server name\n",
    "    'DATABASE=' + database + ';'  # the database you want to connect to\n",
    "    'Trusted_Connection=yes;'\n",
    ")\n",
    "\n",
    "# Create a connection\n",
    "conn = pyodbc.connect(conn_str, autocommit=True)\n",
    "\n",
    "# Crear un cursor\n",
    "cursor = conn.cursor()\n",
    "\n",
    "# Crear la tabla de Orders\n",
    "cursor.execute(\"\"\"\n",
    "CREATE TABLE Orders (\n",
    "    order_id VARCHAR(50) PRIMARY KEY,\n",
    "    customer_id VARCHAR(50),\n",
    "    order_status VARCHAR(20),\n",
    "    order_purchase_timestamp DATETIME,\n",
    "    order_approved_at DATETIME,\n",
    "    order_delivered_carrier_date DATETIME,\n",
    "    order_delivered_customer_date DATETIME,\n",
    "    order_estimated_delivery_date DATETIME\n",
    ")\n",
    "\"\"\")\n",
    "\n",
    "# Crear la tabla de Customers\n",
    "cursor.execute(\"\"\"\n",
    "CREATE TABLE Customers (\n",
    "    customer_id VARCHAR(50) PRIMARY KEY,\n",
    "    customer_unique_id VARCHAR(50),\n",
    "    customer_zip_code_prefix INT,\n",
    "    customer_city VARCHAR(50),\n",
    "    customer_state VARCHAR(10)\n",
    ")\n",
    "\"\"\")\n",
    "\n",
    "# Crear la tabla de Items\n",
    "cursor.execute(\"\"\"\n",
    "CREATE TABLE Items (\n",
    "    item_id INT PRIMARY KEY,\n",
    "    order_id VARCHAR(50),\n",
    "    order_item_id INT,\n",
    "    product_id VARCHAR(50),\n",
    "    seller_id VARCHAR(50),\n",
    "    shipping_limit_date DATETIME,\n",
    "    price DECIMAL(10, 2),\n",
    "    freight_value DECIMAL(10, 2)\n",
    ")\n",
    "\"\"\")\n",
    "\n",
    "# Crear la tabla de Payments\n",
    "cursor.execute(\"\"\"\n",
    "CREATE TABLE Payments (\n",
    "    payment_id INT PRIMARY KEY,\n",
    "    order_id VARCHAR(50),\n",
    "    payment_sequential INT,\n",
    "    payment_type VARCHAR(20),\n",
    "    payment_installments INT,\n",
    "    payment_value DECIMAL(10, 2)\n",
    ")\n",
    "\"\"\")\n",
    "\n",
    "# Crear la tabla de Reviews\n",
    "cursor.execute(\"\"\"\n",
    "CREATE TABLE Reviews (\n",
    "    review_id VARCHAR(50) PRIMARY KEY,\n",
    "    order_id VARCHAR(50),\n",
    "    review_score INT,\n",
    "    review_creation_date DATETIME,\n",
    "    review_answer_timestamp DATETIME\n",
    ")\n",
    "\"\"\")\n",
    "\n",
    "# Crear la tabla de Sellers\n",
    "cursor.execute(\"\"\"\n",
    "CREATE TABLE Sellers (\n",
    "    seller_id VARCHAR(50) PRIMARY KEY,\n",
    "    seller_zip_code_prefix INT,\n",
    "    seller_city VARCHAR(50),\n",
    "    seller_state VARCHAR(10)\n",
    ")\n",
    "\"\"\")\n",
    "\n",
    "# Crear la tabla de geolocation\n",
    "cursor.execute(\"\"\"\n",
    "CREATE TABLE Geolocation (\n",
    "    geolocation_id INT PRIMARY KEY,\n",
    "    geolocation_zip_code_prefix INT,\n",
    "    geolocation_lat DECIMAL(12, 10),\n",
    "    geolocation_lng DECIMAL(12, 10),\n",
    "    geolocation_city VARCHAR(50),\n",
    "    geolocation_state VARCHAR(10)\n",
    ")\n",
    "\"\"\")\n",
    "\n",
    "# Crear la tabla de Product_Categories\n",
    "cursor.execute(\"\"\"\n",
    "CREATE TABLE Product_Categories (\n",
    "    product_id VARCHAR(50) PRIMARY KEY,\n",
    "    product_category_name_english VARCHAR(50)\n",
    ")\n",
    "\"\"\")\n",
    "\n"
   ]
  },
  {
   "cell_type": "markdown",
   "metadata": {},
   "source": [
    "### Creación de las relaciones"
   ]
  },
  {
   "cell_type": "code",
   "execution_count": 22,
   "metadata": {},
   "outputs": [
    {
     "ename": "ProgrammingError",
     "evalue": "('42000', \"[42000] [Microsoft][ODBC Driver 17 for SQL Server][SQL Server]There are no primary or candidate keys in the referenced table 'Geolocation' that match the referencing column list in the foreign key 'FK_Sellers_Geolocation'. (1776) (SQLExecDirectW); [42000] [Microsoft][ODBC Driver 17 for SQL Server][SQL Server]Could not create constraint or index. See previous errors. (1750)\")",
     "output_type": "error",
     "traceback": [
      "\u001b[31m---------------------------------------------------------------------------\u001b[39m",
      "\u001b[31mProgrammingError\u001b[39m                          Traceback (most recent call last)",
      "\u001b[36mCell\u001b[39m\u001b[36m \u001b[39m\u001b[32mIn[22]\u001b[39m\u001b[32m, line 44\u001b[39m\n\u001b[32m     37\u001b[39m cursor.execute(\u001b[33m\"\"\"\u001b[39m\n\u001b[32m     38\u001b[39m \u001b[33mALTER TABLE Items\u001b[39m\n\u001b[32m     39\u001b[39m \u001b[33mADD CONSTRAINT FK_Items_Sellers\u001b[39m\n\u001b[32m     40\u001b[39m \u001b[33mFOREIGN KEY (seller_id) REFERENCES Sellers(seller_id)\u001b[39m\n\u001b[32m     41\u001b[39m \u001b[33m\"\"\"\u001b[39m)\n\u001b[32m     43\u001b[39m \u001b[38;5;66;03m# Crear la relación entre Sellers y geolocation\u001b[39;00m\n\u001b[32m---> \u001b[39m\u001b[32m44\u001b[39m \u001b[43mcursor\u001b[49m\u001b[43m.\u001b[49m\u001b[43mexecute\u001b[49m\u001b[43m(\u001b[49m\u001b[33;43m\"\"\"\u001b[39;49m\n\u001b[32m     45\u001b[39m \u001b[33;43mALTER TABLE Sellers\u001b[39;49m\n\u001b[32m     46\u001b[39m \u001b[33;43mADD CONSTRAINT FK_Sellers_Geolocation\u001b[39;49m\n\u001b[32m     47\u001b[39m \u001b[33;43mFOREIGN KEY (seller_zip_code_prefix) REFERENCES Geolocation(geolocation_zip_code_prefix)\u001b[39;49m\n\u001b[32m     48\u001b[39m \u001b[33;43m\"\"\"\u001b[39;49m\u001b[43m)\u001b[49m\n\u001b[32m     50\u001b[39m \u001b[38;5;66;03m# Crear la relación entre Customers y geolocation\u001b[39;00m\n\u001b[32m     51\u001b[39m cursor.execute(\u001b[33m\"\"\"\u001b[39m\n\u001b[32m     52\u001b[39m \u001b[33mALTER TABLE Customers\u001b[39m\n\u001b[32m     53\u001b[39m \u001b[33mADD CONSTRAINT FK_Customers_Geolocation\u001b[39m\n\u001b[32m     54\u001b[39m \u001b[33mFOREIGN KEY (customer_zip_code_prefix) REFERENCES Geolocation(geolocation_zip_code_prefix)\u001b[39m\n\u001b[32m     55\u001b[39m \u001b[33m\"\"\"\u001b[39m)\n",
      "\u001b[31mProgrammingError\u001b[39m: ('42000', \"[42000] [Microsoft][ODBC Driver 17 for SQL Server][SQL Server]There are no primary or candidate keys in the referenced table 'Geolocation' that match the referencing column list in the foreign key 'FK_Sellers_Geolocation'. (1776) (SQLExecDirectW); [42000] [Microsoft][ODBC Driver 17 for SQL Server][SQL Server]Could not create constraint or index. See previous errors. (1750)\")"
     ]
    }
   ],
   "source": [
    "# Crear la relación entre Orders y Customers\n",
    "cursor.execute(\"\"\"\n",
    "ALTER TABLE Orders\n",
    "ADD CONSTRAINT FK_Orders_Customers\n",
    "FOREIGN KEY (customer_id) REFERENCES Customers(customer_id)\n",
    "\"\"\")\n",
    "\n",
    "# Crear la relación entre reviews y Orders\n",
    "cursor.execute(\"\"\"\n",
    "ALTER TABLE Reviews\n",
    "ADD CONSTRAINT FK_Reviews_Orders\n",
    "FOREIGN KEY (order_id) REFERENCES Orders(order_id)\n",
    "\"\"\")\n",
    "\n",
    "# Crear la relacion entre payments y Orders\n",
    "cursor.execute(\"\"\"\n",
    "ALTER TABLE Payments\n",
    "ADD CONSTRAINT FK_Payments_Orders\n",
    "FOREIGN KEY (order_id) REFERENCES Orders(order_id)\n",
    "\"\"\")\n",
    "\n",
    "# Crear la relación entre Items y Orders\n",
    "cursor.execute(\"\"\"\n",
    "ALTER TABLE Items\n",
    "ADD CONSTRAINT FK_Items_Orders\n",
    "FOREIGN KEY (order_id) REFERENCES Orders(order_id)\n",
    "\"\"\")\n",
    "\n",
    "# Crear la relación entre Items y product_categories\n",
    "cursor.execute(\"\"\"\n",
    "ALTER TABLE Items\n",
    "ADD CONSTRAINT FK_Items_Product_Categories\n",
    "FOREIGN KEY (product_id) REFERENCES Product_Categories(product_id)\n",
    "\"\"\")\n",
    "\n",
    "# Crear la relación entre Items y Sellers\n",
    "cursor.execute(\"\"\"\n",
    "ALTER TABLE Items\n",
    "ADD CONSTRAINT FK_Items_Sellers\n",
    "FOREIGN KEY (seller_id) REFERENCES Sellers(seller_id)\n",
    "\"\"\")\n",
    "\n",
    "# Crear la relación entre Sellers y geolocation\n",
    "cursor.execute(\"\"\"\n",
    "ALTER TABLE Sellers\n",
    "ADD CONSTRAINT FK_Sellers_Geolocation\n",
    "FOREIGN KEY (seller_zip_code_prefix) REFERENCES Geolocation(geolocation_zip_code_prefix)\n",
    "\"\"\")\n",
    "\n",
    "# Crear la relación entre Customers y geolocation\n",
    "cursor.execute(\"\"\"\n",
    "ALTER TABLE Customers\n",
    "ADD CONSTRAINT FK_Customers_Geolocation\n",
    "FOREIGN KEY (customer_zip_code_prefix) REFERENCES Geolocation(geolocation_zip_code_prefix)\n",
    "\"\"\")\n",
    "\n",
    "# Confirmar los cambios\n",
    "conn.commit()\n",
    "\n",
    "# Cerrar la conexión\n",
    "cursor.close()\n",
    "conn.close()"
   ]
  }
 ],
 "metadata": {
  "kernelspec": {
   "display_name": "Python 3",
   "language": "python",
   "name": "python3"
  },
  "language_info": {
   "codemirror_mode": {
    "name": "ipython",
    "version": 3
   },
   "file_extension": ".py",
   "mimetype": "text/x-python",
   "name": "python",
   "nbconvert_exporter": "python",
   "pygments_lexer": "ipython3",
   "version": "3.11.9"
  }
 },
 "nbformat": 4,
 "nbformat_minor": 2
}
